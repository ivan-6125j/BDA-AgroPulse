{
  "cells": [
    {
      "cell_type": "markdown",
      "metadata": {
        "id": "view-in-github",
        "colab_type": "text"
      },
      "source": [
        "<a href=\"https://colab.research.google.com/github/ivan-6125j/BDA-AgroPulse/blob/main/Conhe%C3%A7a_o_Colab.ipynb\" target=\"_parent\"><img src=\"https://colab.research.google.com/assets/colab-badge.svg\" alt=\"Open In Colab\"/></a>"
      ]
    },
    {
      "cell_type": "markdown",
      "source": [
        "# Nova seção"
      ],
      "metadata": {
        "id": "uyHPwdU6Uu6e"
      }
    },
    {
      "cell_type": "code",
      "source": [
        "!pip install beautifulsoup4\n",
        "import requests\n",
        "from bs4 import BeautifulSoup\n",
        "import csv\n",
        "url = \"https://blog.aegro.com.br/\"\n",
        "response = requests.get(url)\n",
        "soup = BeautifulSoup(response.text, 'html.parser')\n",
        "titulos = soup.find_all('h2')\n",
        "for titulo in titulos:\n",
        "  print(titulo.text)\n",
        "\n"
      ],
      "metadata": {
        "colab": {
          "base_uri": "https://localhost:8080/"
        },
        "id": "lahb6dZDUvbH",
        "outputId": "0e480d03-237f-48ee-aac9-7610357f0804"
      },
      "execution_count": 26,
      "outputs": [
        {
          "output_type": "stream",
          "name": "stdout",
          "text": [
            "Requirement already satisfied: beautifulsoup4 in /usr/local/lib/python3.11/dist-packages (4.13.4)\n",
            "Requirement already satisfied: soupsieve>1.2 in /usr/local/lib/python3.11/dist-packages (from beautifulsoup4) (2.7)\n",
            "Requirement already satisfied: typing-extensions>=4.0.0 in /usr/local/lib/python3.11/dist-packages (from beautifulsoup4) (4.14.0)\n",
            "Como restituir o seguro do maquinário perdido em desastres ambientais?\n",
            "Antecipação de recebíveis: o que é, como funciona e quando é vantajosa\n",
            "Cotação agrícola: como está o mercado agro hoje\n",
            "Máquina agrícola: Veja se vale investir para o seu agronegócio\n",
            "Como restituir o seguro do maquinário perdido em desastres ambientais?\n",
            "Como restituir o seguro do maquinário perdido em desastres ambientais?\n",
            "Categorias\n",
            "Recentes\n",
            "Mais lidos da semana\n",
            "Não perca nenhuma novidade!\n"
          ]
        }
      ]
    },
    {
      "cell_type": "code",
      "source": [
        "print(response.status_code)"
      ],
      "metadata": {
        "colab": {
          "base_uri": "https://localhost:8080/"
        },
        "id": "uPZMgOS1WkQu",
        "outputId": "5f02ace8-b421-47d4-d988-1b55abd9ca46"
      },
      "execution_count": 12,
      "outputs": [
        {
          "output_type": "stream",
          "name": "stdout",
          "text": [
            "200\n"
          ]
        }
      ]
    },
    {
      "cell_type": "code",
      "source": [
        " soup = BeautifulSoup(response.text, 'html.parser')\n"
      ],
      "metadata": {
        "id": "WLDCHddmWtdu"
      },
      "execution_count": 13,
      "outputs": []
    },
    {
      "cell_type": "code",
      "source": [
        "titulos = soup.find_all('h2')"
      ],
      "metadata": {
        "id": "EdiPN6T8W06v"
      },
      "execution_count": 16,
      "outputs": []
    },
    {
      "cell_type": "code",
      "source": [
        "for numero in range(1,11):\n",
        "\n",
        "  print(numero)"
      ],
      "metadata": {
        "colab": {
          "base_uri": "https://localhost:8080/"
        },
        "id": "_lkeABrqYUEV",
        "outputId": "5dfa1134-d65a-4288-8148-0e357481f383"
      },
      "execution_count": 22,
      "outputs": [
        {
          "output_type": "stream",
          "name": "stdout",
          "text": [
            "1\n",
            "2\n",
            "3\n",
            "4\n",
            "5\n",
            "6\n",
            "7\n",
            "8\n",
            "9\n",
            "10\n"
          ]
        }
      ]
    },
    {
      "cell_type": "code",
      "source": [
        "for titulo in titulos:\n",
        "  print(titulo.text)"
      ],
      "metadata": {
        "colab": {
          "base_uri": "https://localhost:8080/"
        },
        "id": "hOrgqimoY4NO",
        "outputId": "e4127d30-4a27-4ca6-9066-5f83a83c5e25"
      },
      "execution_count": 23,
      "outputs": [
        {
          "output_type": "stream",
          "name": "stdout",
          "text": [
            "Como restituir o seguro do maquinário perdido em desastres ambientais?\n",
            "Antecipação de recebíveis: o que é, como funciona e quando é vantajosa\n",
            "Cotação agrícola: como está o mercado agro hoje\n",
            "Máquina agrícola: Veja se vale investir para o seu agronegócio\n",
            "Como restituir o seguro do maquinário perdido em desastres ambientais?\n",
            "Como restituir o seguro do maquinário perdido em desastres ambientais?\n",
            "Categorias\n",
            "Recentes\n",
            "Mais lidos da semana\n",
            "Não perca nenhuma novidade!\n"
          ]
        }
      ]
    }
  ],
  "metadata": {
    "colab": {
      "name": "Conheça o Colab",
      "toc_visible": true,
      "provenance": [],
      "include_colab_link": true
    },
    "kernelspec": {
      "display_name": "Python 3",
      "name": "python3"
    }
  },
  "nbformat": 4,
  "nbformat_minor": 0
}