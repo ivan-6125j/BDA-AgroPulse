{
  "cells": [
    {
      "cell_type": "markdown",
      "metadata": {
        "id": "view-in-github",
        "colab_type": "text"
      },
      "source": [
        "<a href=\"https://colab.research.google.com/github/ivan-6125j/BDA-AgroPulse/blob/main/Conhe%C3%A7a_o_Colab.ipynb\" target=\"_parent\"><img src=\"https://colab.research.google.com/assets/colab-badge.svg\" alt=\"Open In Colab\"/></a>"
      ]
    },
    {
      "cell_type": "code",
      "source": [
        "!pip install beautifulsoup4\n",
        "import requests\n",
        "from bs4 import BeautifulSoup\n",
        "import csv #importei a biblioteca cvs\n",
        "url = \"https://blog.aegro.com.br/\"\n",
        "response = requests.get(url)\n",
        "soup = BeautifulSoup(response.text, 'html.parser')\n",
        "titulos = soup.find_all('h2')\n",
        "!pip install beautifulsoup4\n",
        "import requests\n",
        "from bs4 import BeautifulSoup\n",
        "import csv #importei a biblioteca cvs\n",
        "url = \"https://blog.aegro.com.br/\"\n",
        "response = requests.get(url)\n",
        "soup = BeautifulSoup(response.text, 'html.parser')\n",
        "titulos = soup.find_all('h2')\n",
        "  #criano arquivo titulo.csv modo = write (escrita), sem pular nova linha, codificaçao utf-8\n",
        "with open('titulos.cvs', mode='w', newline='',encoding='utf-8') as arquivo_cvs:\n",
        "    escritor = csv.writer(arquivo_cvs)\n",
        "    escritor.writerow(['Título'])\n",
        "\n",
        "    for titulo in titulos:\n",
        "        texto = titulo.get_text(strip=True)\n",
        "        escritor.writerow([texto])\n",
        "        print(texto)\n",
        "\n",
        "    for titulo in titulos:\n",
        "       texto = titulo.get_text(strip='true')\n",
        "       escritor.writerow([texto])\n",
        "       print(texto)\n",
        "\n",
        "\n"
      ],
      "metadata": {
        "colab": {
          "base_uri": "https://localhost:8080/"
        },
        "id": "lahb6dZDUvbH",
        "outputId": "76d5549d-31b2-4f99-eb54-fc63e857d762"
      },
      "execution_count": 42,
      "outputs": [
        {
          "output_type": "stream",
          "name": "stdout",
          "text": [
            "Requirement already satisfied: beautifulsoup4 in /usr/local/lib/python3.11/dist-packages (4.13.4)\n",
            "Requirement already satisfied: soupsieve>1.2 in /usr/local/lib/python3.11/dist-packages (from beautifulsoup4) (2.7)\n",
            "Requirement already satisfied: typing-extensions>=4.0.0 in /usr/local/lib/python3.11/dist-packages (from beautifulsoup4) (4.14.0)\n",
            "Requirement already satisfied: beautifulsoup4 in /usr/local/lib/python3.11/dist-packages (4.13.4)\n",
            "Requirement already satisfied: soupsieve>1.2 in /usr/local/lib/python3.11/dist-packages (from beautifulsoup4) (2.7)\n",
            "Requirement already satisfied: typing-extensions>=4.0.0 in /usr/local/lib/python3.11/dist-packages (from beautifulsoup4) (4.14.0)\n",
            "Como restituir o seguro do maquinário perdido em desastres ambientais?\n",
            "Antecipação de recebíveis: o que é, como funciona e quando é vantajosa\n",
            "Cotação agrícola: como está o mercado agro hoje\n",
            "Máquina agrícola: Veja se vale investir para o seu agronegócio\n",
            "Como restituir o seguro do maquinário perdido em desastres ambientais?\n",
            "Como restituir o seguro do maquinário perdido em desastres ambientais?\n",
            "Categorias\n",
            "Recentes\n",
            "Mais lidos da semana\n",
            "Não perca nenhuma novidade!\n",
            "Como restituir o seguro do maquinário perdido em desastres ambientais?\n",
            "Antecipação de recebíveis: o que é, como funciona e quando é vantajosa\n",
            "Cotação agrícola: como está o mercado agro hoje\n",
            "Máquina agrícola: Veja se vale investir para o seu agronegócio\n",
            "Como restituir o seguro do maquinário perdido em desastres ambientais?\n",
            "Como restituir o seguro do maquinário perdido em desastres ambientais?\n",
            "Categorias\n",
            "Recentes\n",
            "Mais lidos da semana\n",
            "Não perca nenhuma novidade!\n"
          ]
        }
      ]
    },
    {
      "cell_type": "markdown",
      "source": [
        "# Nova seção"
      ],
      "metadata": {
        "id": "uyHPwdU6Uu6e"
      }
    }
  ],
  "metadata": {
    "colab": {
      "name": "Conheça o Colab",
      "provenance": [],
      "include_colab_link": true
    },
    "kernelspec": {
      "display_name": "Python 3",
      "name": "python3"
    }
  },
  "nbformat": 4,
  "nbformat_minor": 0
}